{
 "cells": [
  {
   "cell_type": "code",
   "execution_count": 251,
   "metadata": {},
   "outputs": [],
   "source": [
    "from biopandas.pdb import PandasPdb\n",
    "import pandas as pd\n",
    "from Bio.PDB import PDBParser, PDBIO, Select"
   ]
  },
  {
   "cell_type": "code",
   "execution_count": 252,
   "metadata": {},
   "outputs": [
    {
     "name": "stdout",
     "output_type": "stream",
     "text": [
      "Hydrogen atoms removed and saved to ./tmp/2lueB/2lueB_clean_noH.pdb\n"
     ]
    }
   ],
   "source": [
    "class NonHetSelect(Select):\n",
    "    def accept_atom(self, atom):\n",
    "        # Accept all atoms except hydrogens\n",
    "        return not atom.id.startswith('H')\n",
    "\n",
    "def remove_hydrogens(input_pdb, output_pdb):\n",
    "    parser = PDBParser(QUIET=True)\n",
    "    structure = parser.get_structure(\"structure\", input_pdb)\n",
    "\n",
    "    io = PDBIO()\n",
    "    io.set_structure(structure)\n",
    "    io.save(output_pdb, NonHetSelect())\n",
    "\n",
    "# Define the input and output PDB file paths\n",
    "input_pdb = \"./tmp/2lueB/2lueB_clean.pdb\"\n",
    "output_pdb = \"./tmp/2lueB/2lueB_clean_noH.pdb\"\n",
    "\n",
    "# Call the function to remove hydrogen atoms\n",
    "remove_hydrogens(input_pdb, output_pdb)\n",
    "\n",
    "print(f\"Hydrogen atoms removed and saved to {output_pdb}\")"
   ]
  },
  {
   "cell_type": "code",
   "execution_count": 253,
   "metadata": {},
   "outputs": [],
   "source": [
    "ppdb_pred = PandasPdb().read_pdb(\"./tmp/2lueB/2lueB_tmp.pdb\")\n",
    "ppdb_true = PandasPdb().read_pdb(\"./tmp/2lueB/2lueB_clean_noH.pdb\")\n",
    "\n",
    "df_ppdb_pred = pd.concat([ppdb_pred.df[\"HETATM\"], ppdb_pred.df[\"ATOM\"]], axis=0)\n",
    "df_ppdb_true = pd.concat([ppdb_true.df[\"HETATM\"], ppdb_true.df[\"ATOM\"]], axis=0)\n",
    "\n",
    "# 去掉 H\n",
    "PandasPdb()._get_heavy(df_ppdb_true, invert=False)\n",
    "\n",
    "start_idx = max(df_ppdb_pred[\"residue_number\"].max(), df_ppdb_true[\"residue_number\"].max()) + 1"
   ]
  },
  {
   "cell_type": "code",
   "execution_count": 254,
   "metadata": {},
   "outputs": [
    {
     "name": "stdout",
     "output_type": "stream",
     "text": [
      "119 119\n"
     ]
    }
   ],
   "source": [
    "peptide_true = df_ppdb_true[df_ppdb_true[\"chain_id\"] == \"B\"]\n",
    "protein_true = df_ppdb_true[df_ppdb_true[\"chain_id\"] == \"A\"]\n",
    "\n",
    "peptide_pred = df_ppdb_pred[df_ppdb_pred[\"chain_id\"] == \"A\"]\n",
    "protein_pred = df_ppdb_pred[df_ppdb_pred[\"chain_id\"] == \"B\"]\n",
    "\n",
    "print(len(set(protein_true[\"residue_number\"])), len(set(protein_pred[\"residue_number\"])))"
   ]
  },
  {
   "cell_type": "code",
   "execution_count": 255,
   "metadata": {},
   "outputs": [],
   "source": [
    "def renumber_atom_number(df, start_idx = 1):\n",
    "    df[\"atom_number\"] = range(start_idx, start_idx + len(df))\n",
    "\n",
    "def renumber_residue_number(df, set_start_idx=1):\n",
    "    df.reset_index(drop=True, inplace=True)\n",
    "    residue_number = set_start_idx\n",
    "    last_residue_number = None\n",
    "    last_residue_name = None\n",
    "    \n",
    "    for i in range(len(df)):\n",
    "        current_residue_number = df.at[i, \"residue_number\"]\n",
    "        current_residue_name = df.at[i, \"residue_name\"]\n",
    "        if (last_residue_number is None) and (last_residue_name is None):\n",
    "            last_residue_number = current_residue_number\n",
    "            last_residue_name = current_residue_name\n",
    "        \n",
    "        if (current_residue_number == last_residue_number) and (current_residue_name == last_residue_name):\n",
    "            df.at[i, \"residue_number\"] = residue_number\n",
    "        else:\n",
    "            residue_number += 1\n",
    "            df.at[i, \"residue_number\"] = residue_number\n",
    "            last_residue_number = current_residue_number\n",
    "            last_residue_name = current_residue_name\n"
   ]
  },
  {
   "cell_type": "code",
   "execution_count": 256,
   "metadata": {},
   "outputs": [],
   "source": [
    "def copy_residue(res_from, res_to):\n",
    "    res_from.reset_index(inplace=True, drop=True)\n",
    "    res_to.reset_index(inplace=True, drop=True)\n",
    "    required_columns = [\"x_coord\", \"y_coord\", \"z_coord\", \"occupancy\", \"b_factor\"]\n",
    "    \n",
    "    # Ensure the necessary columns exist in both DataFrames\n",
    "    for col in required_columns:\n",
    "        if col not in res_from.columns or col not in res_to.columns:\n",
    "            raise ValueError(f\"Column '{col}' must be present in both DataFrames.\")\n",
    "    \n",
    "    # Ensure the DataFrames have the same length\n",
    "    if len(res_from) != len(res_to):\n",
    "        raise ValueError(\"Both DataFrames must have the same number of rows.\")\n",
    "    \n",
    "    # Copy the data\n",
    "    for i in range(len(res_to)):\n",
    "        res_to.loc[i, required_columns] = res_from.loc[i, required_columns]"
   ]
  },
  {
   "cell_type": "code",
   "execution_count": 257,
   "metadata": {},
   "outputs": [
    {
     "name": "stdout",
     "output_type": "stream",
     "text": [
      "169 ATOM\n",
      "170 HETATM\n",
      "171 HETATM\n",
      "172 ATOM\n",
      "173 HETATM\n",
      "174 HETATM\n",
      "175 ATOM\n",
      "176 ATOM\n",
      "177 HETATM\n",
      "178 ATOM\n",
      "179 ATOM\n",
      "180 ATOM\n",
      "181 ATOM\n",
      "182 ATOM\n",
      "183 ATOM\n",
      "184 ATOM\n",
      "185 ATOM\n"
     ]
    }
   ],
   "source": [
    "# 先拿到所有的 LG\n",
    "LG_true_list = []\n",
    "LG_pred_list = []\n",
    "\n",
    "for (residue_name, residue_number), group in peptide_true[peptide_true[\"record_name\"] == \"HETATM\"].groupby([\"residue_name\", \"residue_number\"]):\n",
    "    LG_true_list.append(group)\n",
    "for (residue_name, residue_number), group in peptide_pred[peptide_pred[\"record_name\"] == \"HETATM\"].groupby([\"residue_name\", \"residue_number\"]):\n",
    "    LG_pred_list.append(group)\n",
    "\n",
    "# 遍历 多肽的 pred 然后一个一个插进去\n",
    "new_peptide_pred = []\n",
    "for (residue_number, record_name), group in peptide_true.groupby([\"residue_number\", \"record_name\"]):\n",
    "    print(residue_number, record_name)\n",
    "    if record_name == \"ATOM\":\n",
    "        new_peptide_pred.append(group)\n",
    "    elif record_name == \"HETATM\":\n",
    "        LG_true = LG_true_list.pop(0)\n",
    "        LG_pred = LG_pred_list.pop(0)\n",
    "        copy_residue(res_from=LG_pred, res_to=LG_true)\n",
    "        new_peptide_pred.append(LG_true)"
   ]
  },
  {
   "cell_type": "code",
   "execution_count": 258,
   "metadata": {},
   "outputs": [],
   "source": [
    "df_new_peptide_pred = pd.concat(new_peptide_pred, axis=0)"
   ]
  },
  {
   "cell_type": "code",
   "execution_count": 259,
   "metadata": {},
   "outputs": [
    {
     "name": "stdout",
     "output_type": "stream",
     "text": [
      "17\n"
     ]
    }
   ],
   "source": [
    "renumber_residue_number(df_new_peptide_pred, start_idx)\n",
    "renumber_atom_number(df_new_peptide_pred)\n",
    "print(len(set(df_new_peptide_pred['residue_number'])))"
   ]
  },
  {
   "cell_type": "code",
   "execution_count": 260,
   "metadata": {},
   "outputs": [],
   "source": [
    "new_pdb_pred = PandasPdb()"
   ]
  },
  {
   "cell_type": "code",
   "execution_count": 261,
   "metadata": {},
   "outputs": [],
   "source": [
    "new_pdb_pred._df = {\n",
    "    \"ATOM\": df_new_peptide_pred[df_new_peptide_pred[\"record_name\"] == \"ATOM\"],\n",
    "    \"HETATM\": df_new_peptide_pred[df_new_peptide_pred[\"record_name\"] == \"HETATM\"],\n",
    "    'ANISOU': pd.DataFrame(),\n",
    "    'OTHERS': pd.DataFrame()\n",
    "}"
   ]
  },
  {
   "cell_type": "code",
   "execution_count": 262,
   "metadata": {},
   "outputs": [],
   "source": [
    "new_pdb_pred.to_pdb(\"./tmp/some.pdb\")"
   ]
  },
  {
   "cell_type": "code",
   "execution_count": null,
   "metadata": {},
   "outputs": [],
   "source": []
  }
 ],
 "metadata": {
  "kernelspec": {
   "display_name": "mix",
   "language": "python",
   "name": "python3"
  },
  "language_info": {
   "codemirror_mode": {
    "name": "ipython",
    "version": 3
   },
   "file_extension": ".py",
   "mimetype": "text/x-python",
   "name": "python",
   "nbconvert_exporter": "python",
   "pygments_lexer": "ipython3",
   "version": "3.9.19"
  }
 },
 "nbformat": 4,
 "nbformat_minor": 2
}
