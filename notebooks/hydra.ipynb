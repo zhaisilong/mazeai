{
 "cells": [
  {
   "cell_type": "code",
   "execution_count": null,
   "metadata": {},
   "outputs": [],
   "source": [
    "import hydra\n",
    "from omegaconf import DictConfig, OmegaConf"
   ]
  },
  {
   "cell_type": "code",
   "execution_count": null,
   "metadata": {},
   "outputs": [],
   "source": [
    "@hydra.main(version_base=None)\n",
    "def my_app(cfg: DictConfig) -> None:\n",
    "    print(OmegaConf.to_yaml(cfg))\n",
    "\n",
    "if __name__ == \"__main__\":\n",
    "    my_app()"
   ]
  },
  {
   "cell_type": "markdown",
   "metadata": {},
   "source": [
    "```bash\n",
    "$ python my_app.py +db.driver=mysql +db.user=omry +db.password=secret\n",
    "\n",
    "db:\n",
    "  driver: mysql\n",
    "  user: omry\n",
    "  password: secret\n",
    "```"
   ]
  },
  {
   "cell_type": "markdown",
   "metadata": {},
   "source": []
  }
 ],
 "metadata": {
  "kernelspec": {
   "display_name": "sme",
   "language": "python",
   "name": "python3"
  },
  "language_info": {
   "name": "python",
   "version": "3.9.18"
  }
 },
 "nbformat": 4,
 "nbformat_minor": 2
}
