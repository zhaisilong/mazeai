{
 "cells": [
  {
   "cell_type": "code",
   "execution_count": 1,
   "outputs": [
    {
     "name": "stderr",
     "output_type": "stream",
     "text": [
      "/home/seeyou/anaconda3/envs/rdkit/lib/python3.7/site-packages/fuzzywuzzy/fuzz.py:11: UserWarning: Using slow pure-python SequenceMatcher. Install python-Levenshtein to remove this warning\n",
      "  warnings.warn('Using slow pure-python SequenceMatcher. Install python-Levenshtein to remove this warning')\n"
     ]
    }
   ],
   "source": [
    "from fuzzywuzzy import fuzz, process"
   ],
   "metadata": {
    "collapsed": false
   }
  },
  {
   "cell_type": "code",
   "execution_count": 10,
   "outputs": [
    {
     "name": "stdout",
     "output_type": "stream",
     "text": [
      "100\n",
      "80\n",
      "100\n",
      "100\n",
      "100\n",
      "100\n",
      "100\n"
     ]
    }
   ],
   "source": [
    "print(fuzz.ratio(\"河南省\", \"河南省\"))  # 简单匹配（Ratio）\n",
    "print(fuzz.ratio(\"河南省\", \"河南\"))  # 简单匹配（Ratio）\n",
    "print(fuzz.partial_ratio(\"河南省\", \"河南省\"))  # 非完全匹配（Partial Ratio）\n",
    "print(fuzz.partial_ratio(\"河南省\", \"河南\"))  # 非完全匹配（Partial Ratio）\n",
    "print(fuzz.token_sort_ratio(\"西藏 自治区\", \"自治区 西藏\"))  # 忽略顺序匹配（Token Sort Ratio）\n",
    "print(fuzz.token_set_ratio(\"西藏 西藏 自治区\", \"自治区 西藏\"))  # 去重子集匹配（Token Set Ratio）\n",
    "print(fuzz.WRatio('nhooo', 'nhooo!!!'))  # 处理大小写以及其他一些参数"
   ],
   "metadata": {
    "collapsed": false
   }
  },
  {
   "cell_type": "code",
   "execution_count": 8,
   "outputs": [
    {
     "name": "stdout",
     "output_type": "stream",
     "text": [
      "[('New York Jets', 100), ('New York Giants', 79)]\n",
      "('Dallas Cowboys', 90)\n"
     ]
    }
   ],
   "source": [
    "\"\"\"process模块\n",
    "\n",
    "用于处理备选答案有限的情况，返回模糊匹配的字符串和相似度。\n",
    "\"\"\"\n",
    "choices = [\"Atlanta Falcons\", \"New York Jets\", \"New York Giants\", \"Dallas Cowboys\"]\n",
    "print(process.extract(\"new york jets\", choices, limit=2))\n",
    "print(process.extractOne(\"cowboys\", choices))"
   ],
   "metadata": {
    "collapsed": false
   }
  },
  {
   "cell_type": "code",
   "execution_count": null,
   "outputs": [],
   "source": [],
   "metadata": {
    "collapsed": false
   }
  }
 ],
 "metadata": {
  "kernelspec": {
   "display_name": "Python 3",
   "language": "python",
   "name": "python3"
  },
  "language_info": {
   "codemirror_mode": {
    "name": "ipython",
    "version": 2
   },
   "file_extension": ".py",
   "mimetype": "text/x-python",
   "name": "python",
   "nbconvert_exporter": "python",
   "pygments_lexer": "ipython2",
   "version": "2.7.6"
  }
 },
 "nbformat": 4,
 "nbformat_minor": 0
}
