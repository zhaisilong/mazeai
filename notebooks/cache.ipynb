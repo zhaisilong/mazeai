{
 "cells": [
  {
   "cell_type": "markdown",
   "metadata": {},
   "source": [
    "## Python 缓存机制使用指南\n",
    "\n",
    "### lru_cache\n",
    "\n",
    "- maxsize=128\n",
    "- typed=False"
   ]
  },
  {
   "cell_type": "markdown",
   "metadata": {},
   "source": [
    "### diskcache"
   ]
  },
  {
   "cell_type": "code",
   "execution_count": 31,
   "metadata": {},
   "outputs": [
    {
     "name": "stdout",
     "output_type": "stream",
     "text": [
      "None\n",
      "value2\n",
      "value3\n",
      "False\n",
      "True\n",
      "True\n"
     ]
    }
   ],
   "source": [
    "import diskcache\n",
    "\n",
    "cache = diskcache.Cache(\"./tmp/demo_cache\")\n",
    "# 实例化缓存，指定大小限制为100MB, 根据LRU算法清理最少使用的缓存项\n",
    "cache = diskcache.Cache('/tmp/demo_cache', size_limit=1024 * 1024 * 1024)\n",
    "cache = diskcache.Cache('/tmp/demo_cache', size_limit=1 << 40)  # 1T\n",
    "cache = diskcache.Cache('/tmp/demo_cache', size_limit=1 << 30)  # 1G\n",
    "cache = diskcache.Cache('/tmp/demo_cache', size_limit=1 << 20)  # 1M\n",
    "\n",
    "cache.set('key1', 'value1')\n",
    "cache.set('key2', 'value2')\n",
    "cache[\"key3\"] = \"value3\"\n",
    "\n",
    "# 删除指定的缓存项\n",
    "cache.delete('key1')\n",
    "\n",
    "print(cache.get('key1'))\n",
    "print(cache.get('key2'))\n",
    "print(cache.get('key3'))\n",
    "\n",
    "print(\"key1\" in cache)\n",
    "print(\"key2\" in cache)\n",
    "print(\"key3\" in cache)"
   ]
  },
  {
   "cell_type": "code",
   "execution_count": 32,
   "metadata": {},
   "outputs": [
    {
     "name": "stdout",
     "output_type": "stream",
     "text": [
      "27\n",
      "Time taken: 0.001703500747680664 seconds\n",
      "27\n",
      "Time taken: 0.00021505355834960938 seconds\n"
     ]
    }
   ],
   "source": [
    "# 使用lru_cache装饰器自动缓存函数结果\n",
    "@cache.memoize()\n",
    "def compute_expensive_operation(x):\n",
    "    # 模拟耗时计算\n",
    "    return x * x * x\n",
    "\n",
    "import time\n",
    "start_time = time.time()\n",
    "print(compute_expensive_operation(3))  # 输出: 27\n",
    "end_time = time.time()\n",
    "print(f\"Time taken: {end_time - start_time} seconds\")\n",
    "\n",
    "# 第二次调用，直接从缓存获取结果\n",
    "start_time = time.time()\n",
    "print(compute_expensive_operation(3))  # 输出: 27\n",
    "end_time = time.time()\n",
    "print(f\"Time taken: {end_time - start_time} seconds\")"
   ]
  },
  {
   "cell_type": "code",
   "execution_count": 33,
   "metadata": {},
   "outputs": [
    {
     "name": "stdout",
     "output_type": "stream",
     "text": [
      "Cache hits: 9\n",
      "Cache misses: 1\n"
     ]
    }
   ],
   "source": [
    "stats = cache.stats()\n",
    "\n",
    "print(\"Cache hits:\", stats[0])\n",
    "print(\"Cache misses:\", stats[1])"
   ]
  },
  {
   "cell_type": "code",
   "execution_count": 37,
   "metadata": {},
   "outputs": [
    {
     "name": "stdout",
     "output_type": "stream",
     "text": [
      "b'key' value\n",
      "key3 value3\n",
      "('__main__.compute_expensive_operation', 3, None) 27\n",
      "key2 value2\n"
     ]
    }
   ],
   "source": [
    "for key in cache:\n",
    "    print(key, cache[key])"
   ]
  },
  {
   "cell_type": "code",
   "execution_count": 39,
   "metadata": {},
   "outputs": [
    {
     "name": "stdout",
     "output_type": "stream",
     "text": [
      "('key2', 'value2')\n",
      "(b'key', 'value')\n"
     ]
    }
   ],
   "source": [
    "print(cache.peekitem())  # 看看最后一个\n",
    "print(cache.peekitem(last=False))  # 看看第一个"
   ]
  },
  {
   "cell_type": "code",
   "execution_count": 28,
   "metadata": {},
   "outputs": [
    {
     "data": {
      "text/plain": [
       "('value2', None, None)"
      ]
     },
     "execution_count": 28,
     "metadata": {},
     "output_type": "execute_result"
    }
   ],
   "source": [
    "result = cache.pop('key2', expire_time=True, tag=True)\n",
    "result"
   ]
  },
  {
   "cell_type": "code",
   "execution_count": null,
   "metadata": {},
   "outputs": [],
   "source": [
    "cache.expire()  # 清理过期的缓存项"
   ]
  },
  {
   "cell_type": "markdown",
   "metadata": {},
   "source": [
    "## 多层次缓存管理"
   ]
  },
  {
   "cell_type": "code",
   "execution_count": null,
   "metadata": {},
   "outputs": [],
   "source": [
    "import diskcache as dc\n",
    "\n",
    "# 创建内存缓存和磁盘缓存\n",
    "memory_cache = dc.Cache('./tmp/demo_cache_memory')\n",
    "disk_cache = dc.Cache('./tmp/demo_cache_disk')\n",
    "\n",
    "# 创建 FanoutCache，传入多个缓存源\n",
    "fanout_cache = dc.FanoutCache([memory_cache, disk_cache])\n",
    "\n",
    "# 向缓存写入数据\n",
    "fanout_cache['user_123'] = {'name': 'Alice', 'age': 30}\n",
    "\n",
    "# 从缓存读取数据\n",
    "user = fanout_cache['user_123']\n",
    "print(user)  # 输出：{'name': 'Alice', 'age': 30}"
   ]
  }
 ],
 "metadata": {
  "kernelspec": {
   "display_name": "af3_tmp",
   "language": "python",
   "name": "python3"
  },
  "language_info": {
   "codemirror_mode": {
    "name": "ipython",
    "version": 3
   },
   "file_extension": ".py",
   "mimetype": "text/x-python",
   "name": "python",
   "nbconvert_exporter": "python",
   "pygments_lexer": "ipython3",
   "version": "3.12.8"
  }
 },
 "nbformat": 4,
 "nbformat_minor": 2
}
