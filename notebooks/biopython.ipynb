{
 "cells": [
  {
   "cell_type": "code",
   "execution_count": 1,
   "metadata": {},
   "outputs": [],
   "source": [
    "from Bio.PDB import PDBParser\n",
    "from Bio.PDB.StructureAlignment import StructureAlignment\n",
    "from pathlib import Path\n"
   ]
  },
  {
   "cell_type": "code",
   "execution_count": 15,
   "metadata": {},
   "outputs": [],
   "source": [
    "work_dir = Path(\"./tmp/2lueB\")\n",
    "job_name = work_dir.name\n",
    "pep_fasta_path = work_dir / \"2lueB-pep.fasta\"\n",
    "protein_fasta_path = work_dir / \"2lueB-protein-1.fasta\"\n",
    "pdb_pred_path = work_dir / \"2lueB_tmp.pdb\"\n",
    "pdb_true_path = work_dir / \"2lueB_clean.pdb\""
   ]
  },
  {
   "cell_type": "code",
   "execution_count": 12,
   "metadata": {},
   "outputs": [
    {
     "name": "stderr",
     "output_type": "stream",
     "text": [
      "/home/water/miniforge3/envs/mix/lib/python3.9/site-packages/Bio/PDB/Atom.py:241: PDBConstructionWarning: Used element 'N' for Atom (name=N) with given element ''\n",
      "  warnings.warn(msg, PDBConstructionWarning)\n",
      "/home/water/miniforge3/envs/mix/lib/python3.9/site-packages/Bio/PDB/Atom.py:241: PDBConstructionWarning: Used element 'C' for Atom (name=CA) with given element ''\n",
      "  warnings.warn(msg, PDBConstructionWarning)\n",
      "/home/water/miniforge3/envs/mix/lib/python3.9/site-packages/Bio/PDB/Atom.py:241: PDBConstructionWarning: Used element 'C' for Atom (name=C) with given element ''\n",
      "  warnings.warn(msg, PDBConstructionWarning)\n",
      "/home/water/miniforge3/envs/mix/lib/python3.9/site-packages/Bio/PDB/Atom.py:241: PDBConstructionWarning: Used element 'O' for Atom (name=O) with given element ''\n",
      "  warnings.warn(msg, PDBConstructionWarning)\n",
      "/home/water/miniforge3/envs/mix/lib/python3.9/site-packages/Bio/PDB/Atom.py:241: PDBConstructionWarning: Used element 'C' for Atom (name=CB) with given element ''\n",
      "  warnings.warn(msg, PDBConstructionWarning)\n",
      "/home/water/miniforge3/envs/mix/lib/python3.9/site-packages/Bio/PDB/Atom.py:241: PDBConstructionWarning: Used element 'C' for Atom (name=CG) with given element ''\n",
      "  warnings.warn(msg, PDBConstructionWarning)\n",
      "/home/water/miniforge3/envs/mix/lib/python3.9/site-packages/Bio/PDB/Atom.py:241: PDBConstructionWarning: Used element 'O' for Atom (name=OD1) with given element ''\n",
      "  warnings.warn(msg, PDBConstructionWarning)\n",
      "/home/water/miniforge3/envs/mix/lib/python3.9/site-packages/Bio/PDB/Atom.py:241: PDBConstructionWarning: Used element 'N' for Atom (name=ND2) with given element ''\n",
      "  warnings.warn(msg, PDBConstructionWarning)\n",
      "/home/water/miniforge3/envs/mix/lib/python3.9/site-packages/Bio/PDB/Atom.py:241: PDBConstructionWarning: Used element 'H' for Atom (name=H) with given element ''\n",
      "  warnings.warn(msg, PDBConstructionWarning)\n",
      "/home/water/miniforge3/envs/mix/lib/python3.9/site-packages/Bio/PDB/Atom.py:241: PDBConstructionWarning: Used element 'H' for Atom (name=HA) with given element ''\n",
      "  warnings.warn(msg, PDBConstructionWarning)\n",
      "/home/water/miniforge3/envs/mix/lib/python3.9/site-packages/Bio/PDB/Atom.py:241: PDBConstructionWarning: Used element 'H' for Atom (name=1HB) with given element ''\n",
      "  warnings.warn(msg, PDBConstructionWarning)\n",
      "/home/water/miniforge3/envs/mix/lib/python3.9/site-packages/Bio/PDB/Atom.py:241: PDBConstructionWarning: Used element 'H' for Atom (name=2HB) with given element ''\n",
      "  warnings.warn(msg, PDBConstructionWarning)\n",
      "/home/water/miniforge3/envs/mix/lib/python3.9/site-packages/Bio/PDB/Atom.py:241: PDBConstructionWarning: Used element 'H' for Atom (name=1HD2) with given element ''\n",
      "  warnings.warn(msg, PDBConstructionWarning)\n",
      "/home/water/miniforge3/envs/mix/lib/python3.9/site-packages/Bio/PDB/Atom.py:241: PDBConstructionWarning: Used element 'H' for Atom (name=2HD2) with given element ''\n",
      "  warnings.warn(msg, PDBConstructionWarning)\n",
      "/home/water/miniforge3/envs/mix/lib/python3.9/site-packages/Bio/PDB/Atom.py:241: PDBConstructionWarning: Used element 'H' for Atom (name=1HA) with given element ''\n",
      "  warnings.warn(msg, PDBConstructionWarning)\n",
      "/home/water/miniforge3/envs/mix/lib/python3.9/site-packages/Bio/PDB/Atom.py:241: PDBConstructionWarning: Used element 'H' for Atom (name=2HA) with given element ''\n",
      "  warnings.warn(msg, PDBConstructionWarning)\n",
      "/home/water/miniforge3/envs/mix/lib/python3.9/site-packages/Bio/PDB/Atom.py:241: PDBConstructionWarning: Used element 'C' for Atom (name=CD) with given element ''\n",
      "  warnings.warn(msg, PDBConstructionWarning)\n",
      "/home/water/miniforge3/envs/mix/lib/python3.9/site-packages/Bio/PDB/Atom.py:241: PDBConstructionWarning: Used element 'O' for Atom (name=OE1) with given element ''\n",
      "  warnings.warn(msg, PDBConstructionWarning)\n",
      "/home/water/miniforge3/envs/mix/lib/python3.9/site-packages/Bio/PDB/Atom.py:241: PDBConstructionWarning: Used element 'O' for Atom (name=OE2) with given element ''\n",
      "  warnings.warn(msg, PDBConstructionWarning)\n",
      "/home/water/miniforge3/envs/mix/lib/python3.9/site-packages/Bio/PDB/Atom.py:241: PDBConstructionWarning: Used element 'H' for Atom (name=1HG) with given element ''\n",
      "  warnings.warn(msg, PDBConstructionWarning)\n",
      "/home/water/miniforge3/envs/mix/lib/python3.9/site-packages/Bio/PDB/Atom.py:241: PDBConstructionWarning: Used element 'H' for Atom (name=2HG) with given element ''\n",
      "  warnings.warn(msg, PDBConstructionWarning)\n",
      "/home/water/miniforge3/envs/mix/lib/python3.9/site-packages/Bio/PDB/Atom.py:241: PDBConstructionWarning: Used element 'O' for Atom (name=OD2) with given element ''\n",
      "  warnings.warn(msg, PDBConstructionWarning)\n",
      "/home/water/miniforge3/envs/mix/lib/python3.9/site-packages/Bio/PDB/Atom.py:241: PDBConstructionWarning: Used element 'C' for Atom (name=CD1) with given element ''\n",
      "  warnings.warn(msg, PDBConstructionWarning)\n",
      "/home/water/miniforge3/envs/mix/lib/python3.9/site-packages/Bio/PDB/Atom.py:241: PDBConstructionWarning: Used element 'C' for Atom (name=CD2) with given element ''\n",
      "  warnings.warn(msg, PDBConstructionWarning)\n",
      "/home/water/miniforge3/envs/mix/lib/python3.9/site-packages/Bio/PDB/Atom.py:241: PDBConstructionWarning: Used element 'C' for Atom (name=CE1) with given element ''\n",
      "  warnings.warn(msg, PDBConstructionWarning)\n",
      "/home/water/miniforge3/envs/mix/lib/python3.9/site-packages/Bio/PDB/Atom.py:241: PDBConstructionWarning: Used element 'C' for Atom (name=CE2) with given element ''\n",
      "  warnings.warn(msg, PDBConstructionWarning)\n",
      "/home/water/miniforge3/envs/mix/lib/python3.9/site-packages/Bio/PDB/Atom.py:241: PDBConstructionWarning: Used element 'C' for Atom (name=CZ) with given element ''\n",
      "  warnings.warn(msg, PDBConstructionWarning)\n",
      "/home/water/miniforge3/envs/mix/lib/python3.9/site-packages/Bio/PDB/Atom.py:241: PDBConstructionWarning: Used element 'H' for Atom (name=1HD) with given element ''\n",
      "  warnings.warn(msg, PDBConstructionWarning)\n",
      "/home/water/miniforge3/envs/mix/lib/python3.9/site-packages/Bio/PDB/Atom.py:241: PDBConstructionWarning: Used element 'H' for Atom (name=2HD) with given element ''\n",
      "  warnings.warn(msg, PDBConstructionWarning)\n",
      "/home/water/miniforge3/envs/mix/lib/python3.9/site-packages/Bio/PDB/Atom.py:241: PDBConstructionWarning: Used element 'H' for Atom (name=1HE) with given element ''\n",
      "  warnings.warn(msg, PDBConstructionWarning)\n",
      "/home/water/miniforge3/envs/mix/lib/python3.9/site-packages/Bio/PDB/Atom.py:241: PDBConstructionWarning: Used element 'H' for Atom (name=2HE) with given element ''\n",
      "  warnings.warn(msg, PDBConstructionWarning)\n",
      "/home/water/miniforge3/envs/mix/lib/python3.9/site-packages/Bio/PDB/Atom.py:241: PDBConstructionWarning: Used element 'H' for Atom (name=HZ) with given element ''\n",
      "  warnings.warn(msg, PDBConstructionWarning)\n",
      "/home/water/miniforge3/envs/mix/lib/python3.9/site-packages/Bio/PDB/Atom.py:241: PDBConstructionWarning: Used element 'C' for Atom (name=CG1) with given element ''\n",
      "  warnings.warn(msg, PDBConstructionWarning)\n",
      "/home/water/miniforge3/envs/mix/lib/python3.9/site-packages/Bio/PDB/Atom.py:241: PDBConstructionWarning: Used element 'C' for Atom (name=CG2) with given element ''\n",
      "  warnings.warn(msg, PDBConstructionWarning)\n",
      "/home/water/miniforge3/envs/mix/lib/python3.9/site-packages/Bio/PDB/Atom.py:241: PDBConstructionWarning: Used element 'H' for Atom (name=HB) with given element ''\n",
      "  warnings.warn(msg, PDBConstructionWarning)\n",
      "/home/water/miniforge3/envs/mix/lib/python3.9/site-packages/Bio/PDB/Atom.py:241: PDBConstructionWarning: Used element 'H' for Atom (name=1HG1) with given element ''\n",
      "  warnings.warn(msg, PDBConstructionWarning)\n",
      "/home/water/miniforge3/envs/mix/lib/python3.9/site-packages/Bio/PDB/Atom.py:241: PDBConstructionWarning: Used element 'H' for Atom (name=2HG1) with given element ''\n",
      "  warnings.warn(msg, PDBConstructionWarning)\n",
      "/home/water/miniforge3/envs/mix/lib/python3.9/site-packages/Bio/PDB/Atom.py:241: PDBConstructionWarning: Used element 'H' for Atom (name=3HG1) with given element ''\n",
      "  warnings.warn(msg, PDBConstructionWarning)\n",
      "/home/water/miniforge3/envs/mix/lib/python3.9/site-packages/Bio/PDB/Atom.py:241: PDBConstructionWarning: Used element 'H' for Atom (name=1HG2) with given element ''\n",
      "  warnings.warn(msg, PDBConstructionWarning)\n",
      "/home/water/miniforge3/envs/mix/lib/python3.9/site-packages/Bio/PDB/Atom.py:241: PDBConstructionWarning: Used element 'H' for Atom (name=2HG2) with given element ''\n",
      "  warnings.warn(msg, PDBConstructionWarning)\n",
      "/home/water/miniforge3/envs/mix/lib/python3.9/site-packages/Bio/PDB/Atom.py:241: PDBConstructionWarning: Used element 'H' for Atom (name=3HG2) with given element ''\n",
      "  warnings.warn(msg, PDBConstructionWarning)\n",
      "/home/water/miniforge3/envs/mix/lib/python3.9/site-packages/Bio/PDB/Atom.py:241: PDBConstructionWarning: Used element 'H' for Atom (name=1HD1) with given element ''\n",
      "  warnings.warn(msg, PDBConstructionWarning)\n",
      "/home/water/miniforge3/envs/mix/lib/python3.9/site-packages/Bio/PDB/Atom.py:241: PDBConstructionWarning: Used element 'H' for Atom (name=2HD1) with given element ''\n",
      "  warnings.warn(msg, PDBConstructionWarning)\n",
      "/home/water/miniforge3/envs/mix/lib/python3.9/site-packages/Bio/PDB/Atom.py:241: PDBConstructionWarning: Used element 'H' for Atom (name=3HD1) with given element ''\n",
      "  warnings.warn(msg, PDBConstructionWarning)\n",
      "/home/water/miniforge3/envs/mix/lib/python3.9/site-packages/Bio/PDB/Atom.py:241: PDBConstructionWarning: Used element 'N' for Atom (name=NE) with given element ''\n",
      "  warnings.warn(msg, PDBConstructionWarning)\n",
      "/home/water/miniforge3/envs/mix/lib/python3.9/site-packages/Bio/PDB/Atom.py:241: PDBConstructionWarning: Used element 'N' for Atom (name=NH1) with given element ''\n",
      "  warnings.warn(msg, PDBConstructionWarning)\n",
      "/home/water/miniforge3/envs/mix/lib/python3.9/site-packages/Bio/PDB/Atom.py:241: PDBConstructionWarning: Used element 'N' for Atom (name=NH2) with given element ''\n",
      "  warnings.warn(msg, PDBConstructionWarning)\n",
      "/home/water/miniforge3/envs/mix/lib/python3.9/site-packages/Bio/PDB/Atom.py:241: PDBConstructionWarning: Used element 'H' for Atom (name=HE) with given element ''\n",
      "  warnings.warn(msg, PDBConstructionWarning)\n",
      "/home/water/miniforge3/envs/mix/lib/python3.9/site-packages/Bio/PDB/Atom.py:241: PDBConstructionWarning: Used element 'H' for Atom (name=1HH1) with given element ''\n",
      "  warnings.warn(msg, PDBConstructionWarning)\n",
      "/home/water/miniforge3/envs/mix/lib/python3.9/site-packages/Bio/PDB/Atom.py:241: PDBConstructionWarning: Used element 'H' for Atom (name=2HH1) with given element ''\n",
      "  warnings.warn(msg, PDBConstructionWarning)\n",
      "/home/water/miniforge3/envs/mix/lib/python3.9/site-packages/Bio/PDB/Atom.py:241: PDBConstructionWarning: Used element 'H' for Atom (name=1HH2) with given element ''\n",
      "  warnings.warn(msg, PDBConstructionWarning)\n",
      "/home/water/miniforge3/envs/mix/lib/python3.9/site-packages/Bio/PDB/Atom.py:241: PDBConstructionWarning: Used element 'H' for Atom (name=2HH2) with given element ''\n",
      "  warnings.warn(msg, PDBConstructionWarning)\n",
      "/home/water/miniforge3/envs/mix/lib/python3.9/site-packages/Bio/PDB/Atom.py:241: PDBConstructionWarning: Used element 'S' for Atom (name=SD) with given element ''\n",
      "  warnings.warn(msg, PDBConstructionWarning)\n",
      "/home/water/miniforge3/envs/mix/lib/python3.9/site-packages/Bio/PDB/Atom.py:241: PDBConstructionWarning: Used element 'C' for Atom (name=CE) with given element ''\n",
      "  warnings.warn(msg, PDBConstructionWarning)\n",
      "/home/water/miniforge3/envs/mix/lib/python3.9/site-packages/Bio/PDB/Atom.py:241: PDBConstructionWarning: Used element 'H' for Atom (name=3HE) with given element ''\n",
      "  warnings.warn(msg, PDBConstructionWarning)\n",
      "/home/water/miniforge3/envs/mix/lib/python3.9/site-packages/Bio/PDB/Atom.py:241: PDBConstructionWarning: Used element 'H' for Atom (name=3HB) with given element ''\n",
      "  warnings.warn(msg, PDBConstructionWarning)\n",
      "/home/water/miniforge3/envs/mix/lib/python3.9/site-packages/Bio/PDB/Atom.py:241: PDBConstructionWarning: Used element 'N' for Atom (name=NZ) with given element ''\n",
      "  warnings.warn(msg, PDBConstructionWarning)\n",
      "/home/water/miniforge3/envs/mix/lib/python3.9/site-packages/Bio/PDB/Atom.py:241: PDBConstructionWarning: Used element 'H' for Atom (name=1HZ) with given element ''\n",
      "  warnings.warn(msg, PDBConstructionWarning)\n",
      "/home/water/miniforge3/envs/mix/lib/python3.9/site-packages/Bio/PDB/Atom.py:241: PDBConstructionWarning: Used element 'H' for Atom (name=2HZ) with given element ''\n",
      "  warnings.warn(msg, PDBConstructionWarning)\n",
      "/home/water/miniforge3/envs/mix/lib/python3.9/site-packages/Bio/PDB/Atom.py:241: PDBConstructionWarning: Used element 'H' for Atom (name=3HZ) with given element ''\n",
      "  warnings.warn(msg, PDBConstructionWarning)\n",
      "/home/water/miniforge3/envs/mix/lib/python3.9/site-packages/Bio/PDB/Atom.py:241: PDBConstructionWarning: Used element 'O' for Atom (name=OG1) with given element ''\n",
      "  warnings.warn(msg, PDBConstructionWarning)\n",
      "/home/water/miniforge3/envs/mix/lib/python3.9/site-packages/Bio/PDB/Atom.py:241: PDBConstructionWarning: Used element 'H' for Atom (name=HG1) with given element ''\n",
      "  warnings.warn(msg, PDBConstructionWarning)\n",
      "/home/water/miniforge3/envs/mix/lib/python3.9/site-packages/Bio/PDB/Atom.py:241: PDBConstructionWarning: Used element 'N' for Atom (name=NE2) with given element ''\n",
      "  warnings.warn(msg, PDBConstructionWarning)\n",
      "/home/water/miniforge3/envs/mix/lib/python3.9/site-packages/Bio/PDB/Atom.py:241: PDBConstructionWarning: Used element 'H' for Atom (name=1HE2) with given element ''\n",
      "  warnings.warn(msg, PDBConstructionWarning)\n",
      "/home/water/miniforge3/envs/mix/lib/python3.9/site-packages/Bio/PDB/Atom.py:241: PDBConstructionWarning: Used element 'H' for Atom (name=2HE2) with given element ''\n",
      "  warnings.warn(msg, PDBConstructionWarning)\n",
      "/home/water/miniforge3/envs/mix/lib/python3.9/site-packages/Bio/PDB/Atom.py:241: PDBConstructionWarning: Used element 'H' for Atom (name=HG) with given element ''\n",
      "  warnings.warn(msg, PDBConstructionWarning)\n",
      "/home/water/miniforge3/envs/mix/lib/python3.9/site-packages/Bio/PDB/Atom.py:241: PDBConstructionWarning: Used element 'H' for Atom (name=3HD2) with given element ''\n",
      "  warnings.warn(msg, PDBConstructionWarning)\n",
      "/home/water/miniforge3/envs/mix/lib/python3.9/site-packages/Bio/PDB/Atom.py:241: PDBConstructionWarning: Used element 'N' for Atom (name=ND1) with given element ''\n",
      "  warnings.warn(msg, PDBConstructionWarning)\n",
      "/home/water/miniforge3/envs/mix/lib/python3.9/site-packages/Bio/PDB/Atom.py:241: PDBConstructionWarning: Used element 'O' for Atom (name=OH) with given element ''\n",
      "  warnings.warn(msg, PDBConstructionWarning)\n",
      "/home/water/miniforge3/envs/mix/lib/python3.9/site-packages/Bio/PDB/Atom.py:241: PDBConstructionWarning: Used element 'H' for Atom (name=HH) with given element ''\n",
      "  warnings.warn(msg, PDBConstructionWarning)\n",
      "/home/water/miniforge3/envs/mix/lib/python3.9/site-packages/Bio/PDB/Atom.py:241: PDBConstructionWarning: Used element 'O' for Atom (name=OG) with given element ''\n",
      "  warnings.warn(msg, PDBConstructionWarning)\n",
      "/home/water/miniforge3/envs/mix/lib/python3.9/site-packages/Bio/PDB/StructureBuilder.py:100: PDBConstructionWarning: WARNING: Chain A is discontinuous at line 2166.\n",
      "  warnings.warn(\n"
     ]
    }
   ],
   "source": [
    "parser = PDBParser()\n",
    "\n",
    "structure = parser.get_structure(job_name, pdb_pred_path)\n",
    "structure_true = parser.get_structure(job_name, pdb_true_path)"
   ]
  },
  {
   "cell_type": "code",
   "execution_count": 45,
   "metadata": {},
   "outputs": [],
   "source": [
    "from Bio import SeqIO\n",
    "from Bio.Align import MultipleSeqAlignment\n",
    "from Bio.Seq import Seq\n",
    "from Bio.SeqRecord import SeqRecord\n",
    "\n",
    "# Read the FASTA file\n",
    "sequence = SeqIO.parse(protein_fasta_path, \"fasta\")\n",
    "\n",
    "alignment = MultipleSeqAlignment(sequence)"
   ]
  },
  {
   "cell_type": "code",
   "execution_count": 46,
   "metadata": {},
   "outputs": [
    {
     "name": "stdout",
     "output_type": "stream",
     "text": [
      "Alignment with 1 rows and 119 columns\n",
      "GAMGKTFKQRRTFEQRVEDVRLIREQHPTKIPVIIERYKGEKQL...ETF 2LUE_1|Chain\n"
     ]
    }
   ],
   "source": [
    "print(alignment)"
   ]
  },
  {
   "cell_type": "code",
   "execution_count": 47,
   "metadata": {},
   "outputs": [
    {
     "ename": "KeyError",
     "evalue": "1",
     "output_type": "error",
     "traceback": [
      "\u001b[0;31m---------------------------------------------------------------------------\u001b[0m",
      "\u001b[0;31mKeyError\u001b[0m                                  Traceback (most recent call last)",
      "Cell \u001b[0;32mIn[47], line 1\u001b[0m\n\u001b[0;32m----> 1\u001b[0m alignment \u001b[38;5;241m=\u001b[39m StructureAlignment(alignment\u001b[38;5;241m.\u001b[39malignment, structure[\u001b[38;5;241m0\u001b[39m], \u001b[43mstructure_true\u001b[49m\u001b[43m[\u001b[49m\u001b[38;5;241;43m1\u001b[39;49m\u001b[43m]\u001b[49m)\n\u001b[1;32m      2\u001b[0m alignment()\n",
      "File \u001b[0;32m~/miniforge3/envs/mix/lib/python3.9/site-packages/Bio/PDB/Entity.py:65\u001b[0m, in \u001b[0;36mEntity.__getitem__\u001b[0;34m(self, id)\u001b[0m\n\u001b[1;32m     63\u001b[0m \u001b[38;5;28;01mdef\u001b[39;00m \u001b[38;5;21m__getitem__\u001b[39m(\u001b[38;5;28mself\u001b[39m, \u001b[38;5;28mid\u001b[39m):\n\u001b[1;32m     64\u001b[0m \u001b[38;5;250m    \u001b[39m\u001b[38;5;124;03m\"\"\"Return the child with given id.\"\"\"\u001b[39;00m\n\u001b[0;32m---> 65\u001b[0m     \u001b[38;5;28;01mreturn\u001b[39;00m \u001b[38;5;28;43mself\u001b[39;49m\u001b[38;5;241;43m.\u001b[39;49m\u001b[43mchild_dict\u001b[49m\u001b[43m[\u001b[49m\u001b[38;5;28;43mid\u001b[39;49m\u001b[43m]\u001b[49m\n",
      "\u001b[0;31mKeyError\u001b[0m: 1"
     ]
    }
   ],
   "source": [
    "alignment = StructureAlignment(alignment.alignment, structure[0], structure_true[1])\n",
    "alignment()"
   ]
  },
  {
   "cell_type": "code",
   "execution_count": 44,
   "metadata": {},
   "outputs": [
    {
     "name": "stdout",
     "output_type": "stream",
     "text": [
      "seq1              0 VFADMTIIALISYIFCL 17\n",
      "seq2              0 MKTIIALSYIFCLVFAA 17\n",
      "seq3              0 MKTIICALSYIFCLVFA 17\n",
      "\n"
     ]
    }
   ],
   "source": [
    "from Bio import AlignIO\n",
    "from Bio.Align import MultipleSeqAlignment\n",
    "from Bio.Seq import Seq\n",
    "from Bio.SeqRecord import SeqRecord\n",
    "\n",
    "# Example sequences\n",
    "seq1 = SeqRecord(Seq(\"VFADMTIIALISYIFCL\"), id=\"seq1\")\n",
    "seq2 = SeqRecord(Seq(\"MKTIIALSYIFCLVFAA\"), id=\"seq2\")\n",
    "seq3 = SeqRecord(Seq(\"MKTIICALSYIFCLVFA\"), id=\"seq3\")\n",
    "\n",
    "# Create an alignment object\n",
    "alignment = MultipleSeqAlignment([seq1, seq2, seq3])\n",
    "alignment.alignment\n",
    "# Print the alignment\n",
    "print(alignment.alignment)"
   ]
  },
  {
   "cell_type": "code",
   "execution_count": null,
   "metadata": {},
   "outputs": [],
   "source": []
  }
 ],
 "metadata": {
  "kernelspec": {
   "display_name": "mix",
   "language": "python",
   "name": "python3"
  },
  "language_info": {
   "codemirror_mode": {
    "name": "ipython",
    "version": 3
   },
   "file_extension": ".py",
   "mimetype": "text/x-python",
   "name": "python",
   "nbconvert_exporter": "python",
   "pygments_lexer": "ipython3",
   "version": "3.12.8"
  }
 },
 "nbformat": 4,
 "nbformat_minor": 2
}
